{
 "cells": [
  {
   "cell_type": "code",
   "execution_count": 2,
   "id": "94da6db5-e7e0-4ce4-b5a3-d521d63555e6",
   "metadata": {},
   "outputs": [
    {
     "name": "stdout",
     "output_type": "stream",
     "text": [
      "[1, 2, 3, 4, 5]\n"
     ]
    }
   ],
   "source": [
    "li = [1, 2, 3, 4, 5]\n",
    "li[1 : 3].reverse()\n",
    "print(li)"
   ]
  },
  {
   "cell_type": "code",
   "execution_count": 20,
   "id": "26d1aafa-0286-40f4-adf4-37d0cde9863b",
   "metadata": {},
   "outputs": [
    {
     "name": "stdout",
     "output_type": "stream",
     "text": [
      "[4, 3, 2]\n",
      "[1, 2]\n",
      "[5]\n",
      "[1, 4, 3, 2, 5]\n"
     ]
    }
   ],
   "source": [
    "def f (an, l, r):\n",
    "    reverse_range_list = list(reversed(an[l - 1:r]))\n",
    "    print(reverse_range_list)\n",
    "    print(an[:l])\n",
    "    print(an[r:])\n",
    "    re = an[:l-1] + reverse_range_list + an[r:]\n",
    "\n",
    "    return re\n",
    "\n",
    "an = [1, 2, 3, 4, 5]\n",
    "re = f(an, 2, 4)\n",
    "\n",
    "print(re)"
   ]
  }
 ],
 "metadata": {
  "kernelspec": {
   "display_name": "Python 3 (ipykernel)",
   "language": "python",
   "name": "python3"
  },
  "language_info": {
   "codemirror_mode": {
    "name": "ipython",
    "version": 3
   },
   "file_extension": ".py",
   "mimetype": "text/x-python",
   "name": "python",
   "nbconvert_exporter": "python",
   "pygments_lexer": "ipython3",
   "version": "3.10.9"
  }
 },
 "nbformat": 4,
 "nbformat_minor": 5
}
